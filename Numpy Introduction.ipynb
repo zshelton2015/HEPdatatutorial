{
 "cells": [
  {
   "cell_type": "markdown",
   "metadata": {},
   "source": [
    "# Numpy Introduction\n",
    "\n",
    "Numpy provides a memory efficient method for storing large amounts of different values. The values are stored in a matrix format, meaning the index of the value is the only method of identifying them"
   ]
  },
  {
   "cell_type": "code",
   "execution_count": 5,
   "metadata": {},
   "outputs": [
    {
     "name": "stdout",
     "output_type": "stream",
     "text": [
      "Expected Output: \n",
      "1.18.1\n"
     ]
    }
   ],
   "source": [
    "#Exercise 1\n",
    "# Please identify what version of numpy is installed \n",
    "print(\"Expected Output: \\n1.18.1\")"
   ]
  },
  {
   "cell_type": "code",
   "execution_count": null,
   "metadata": {},
   "outputs": [],
   "source": [
    "#Solution\n"
   ]
  },
  {
   "cell_type": "code",
   "execution_count": 33,
   "metadata": {},
   "outputs": [
    {
     "name": "stdout",
     "output_type": "stream",
     "text": [
      "Expected Output:\n",
      "[1 3 5 7 9]\n"
     ]
    }
   ],
   "source": [
    "#Exercise 2\n",
    "#Create a numpy array containing all odd numbers between 1 and 10, print it\n",
    "#Note: store the array for later use\n",
    "print(\"Expected Output:\\n[1 3 5 7 9]\")"
   ]
  },
  {
   "cell_type": "code",
   "execution_count": 17,
   "metadata": {},
   "outputs": [
    {
     "name": "stdout",
     "output_type": "stream",
     "text": [
      "[1 3 5 7 9]\n"
     ]
    }
   ],
   "source": [
    "#Solution\n",
    "import numpy as np\n",
    "array = np.array([1,3,5,7,9])\n",
    "print(array)"
   ]
  },
  {
   "cell_type": "code",
   "execution_count": 40,
   "metadata": {},
   "outputs": [
    {
     "name": "stdout",
     "output_type": "stream",
     "text": [
      "Expected Output:\n",
      "[ 1  3  5  7  9  2  4  6  8 10]\n"
     ]
    }
   ],
   "source": [
    "#Exercise 2\n",
    "#Add all of the even values between 1-10 to the array from Exercise 2\n",
    "print(\"Expected Output:\\n[ 1  3  5  7  9  2  4  6  8 10]\")"
   ]
  },
  {
   "cell_type": "code",
   "execution_count": 38,
   "metadata": {},
   "outputs": [
    {
     "name": "stdout",
     "output_type": "stream",
     "text": [
      "2\n",
      "4\n",
      "6\n",
      "8\n",
      "10\n",
      "[ 1  3  5  7  9  2  4  6  8 10]\n"
     ]
    }
   ],
   "source": [
    "#Solution\n",
    "n=2\n",
    "while n<11:\n",
    "    array=np.append(array,np.array(n))\n",
    "    n=n+2\n",
    "print(array)"
   ]
  },
  {
   "cell_type": "code",
   "execution_count": 55,
   "metadata": {},
   "outputs": [
    {
     "name": "stdout",
     "output_type": "stream",
     "text": [
      "39\n",
      "The last value can be referred to as index -1: 49\n",
      "The last value can also be referred to as index 49: 49\n",
      "The second to last value can be referred to as index -2: 48\n",
      "The last value can also be referred to as index 48: 48\n"
     ]
    }
   ],
   "source": [
    "#Hint: You can create an array contain set of values using arange()\n",
    "arr= np.arange(0,50)\n",
    "#You can print a certain value by entering the index, you can use positve indexs and negative indexes\n",
    "print(arr[39])\n",
    "print(\"The last value can be referred to as index -1: \" + str(arr[-1]))\n",
    "print(\"The last value can also be referred to as index 49: \" + str(arr[49]))\n",
    "print(\"The second to last value can be referred to as index -2: \" + str(arr[-2]))\n",
    "print(\"The last value can also be referred to as index 48: \" + str(arr[48]))"
   ]
  },
  {
   "cell_type": "code",
   "execution_count": 45,
   "metadata": {},
   "outputs": [
    {
     "name": "stdout",
     "output_type": "stream",
     "text": [
      "Expected Output:\n",
      "[ 1  2  3  4  5  6  7  8  9 10]\n"
     ]
    }
   ],
   "source": [
    "#Exercise 3\n",
    "#Create an array with values from 1-10 in ascending order\n",
    "print(\"Expected Output:\\n[ 1  2  3  4  5  6  7  8  9 10]\")"
   ]
  },
  {
   "cell_type": "code",
   "execution_count": 46,
   "metadata": {},
   "outputs": [
    {
     "name": "stdout",
     "output_type": "stream",
     "text": [
      "[ 1  2  3  4  5  6  7  8  9 10]\n"
     ]
    }
   ],
   "source": [
    "#Solution\n",
    "print(np.arange(1,11,1))"
   ]
  },
  {
   "cell_type": "code",
   "execution_count": 48,
   "metadata": {},
   "outputs": [
    {
     "name": "stdout",
     "output_type": "stream",
     "text": [
      "Expected Output:\n",
      "[2  4  6  8 10]\n"
     ]
    }
   ],
   "source": [
    "#Exercise 4\n",
    "#Remove all odd values from array used in previous solution\n",
    "#You can filter values out using the index reference\n",
    "print(\"Expected Output:\\n[2  4  6  8 10]\")"
   ]
  },
  {
   "cell_type": "code",
   "execution_count": 51,
   "metadata": {},
   "outputs": [
    {
     "name": "stdout",
     "output_type": "stream",
     "text": [
      "[ 2  4  6  8 10]\n"
     ]
    }
   ],
   "source": [
    "#Solution\n",
    "array=array[array%2==0]\n",
    "print(array)"
   ]
  },
  {
   "cell_type": "code",
   "execution_count": 64,
   "metadata": {},
   "outputs": [
    {
     "name": "stdout",
     "output_type": "stream",
     "text": [
      "Expected Output:\n",
      "[A R R A Y O F 2 0 V A L U E S]\n",
      " Mean: x.xx\n",
      " Std: x.xx\n"
     ]
    }
   ],
   "source": [
    "#Exercise 5 \n",
    "#Lets apply statisical analysis to numpy values!\n",
    "#print the average value and the standard deviation of an array of random interger values(20 Values)\n",
    "#between (0,20)\n",
    "#import numpy.random as rand\n",
    "#hint: np.random_int() creates an array of psuedorandom values\n",
    "print(\"Expected Output:\\n[A R R A Y O F 2 0 V A L U E S]\\n Mean: x.xx\\n Std: x.xx\")"
   ]
  },
  {
   "cell_type": "code",
   "execution_count": 72,
   "metadata": {},
   "outputs": [
    {
     "name": "stdout",
     "output_type": "stream",
     "text": [
      "[ 1 15 14 16 17 11 16  7 15 13  5  8 19 10  3 11 13 13 14  5]\n",
      "Mean: 11.30\n",
      "Std: 4.86\n"
     ]
    }
   ],
   "source": [
    "#Solution\n",
    "import numpy.random as rand\n",
    "array= rand.randint(0,20,20)\n",
    "print(array)\n",
    "mean = np.average(array)\n",
    "std = np.std(array)\n",
    "print(\"Mean: %.2f\"%mean)\n",
    "print(\"Std: %.2f\"%std)"
   ]
  },
  {
   "cell_type": "code",
   "execution_count": null,
   "metadata": {},
   "outputs": [],
   "source": [
    "#Now a larger exercise(You can choose to complete this yourself or \n",
    "#set up a time with Zach to go through it together):\n",
    "#you are give a thousand students grades from the last calculus 1 exam:\n",
    "#Part 1: Use matplotlib to create a histogram\n",
    "# Label histogram with title, x&y labels, include major gridlines.\n",
    "# Change The color scheme to something prettier(As long as it's not the default)\n",
    "# Extension: Create distplot using seaborn\n",
    "#Part 2: "
   ]
  }
 ],
 "metadata": {
  "kernelspec": {
   "display_name": "Python 3",
   "language": "python",
   "name": "python3"
  },
  "language_info": {
   "codemirror_mode": {
    "name": "ipython",
    "version": 3
   },
   "file_extension": ".py",
   "mimetype": "text/x-python",
   "name": "python",
   "nbconvert_exporter": "python",
   "pygments_lexer": "ipython3",
   "version": "3.7.6"
  }
 },
 "nbformat": 4,
 "nbformat_minor": 4
}
