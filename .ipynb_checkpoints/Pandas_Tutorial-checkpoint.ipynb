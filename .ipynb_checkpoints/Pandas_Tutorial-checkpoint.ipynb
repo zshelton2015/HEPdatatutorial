{
 "cells": [
  {
   "cell_type": "code",
   "execution_count": 1,
   "metadata": {},
   "outputs": [],
   "source": [
    "import pandas as pd\n",
    "#When referencing pandas as a command us pd. "
   ]
  },
  {
   "cell_type": "code",
   "execution_count": 2,
   "metadata": {},
   "outputs": [
    {
     "name": "stdout",
     "output_type": "stream",
     "text": [
      "Expected Output:\n",
      "0      1\n",
      "1      3\n",
      "2      4\n",
      "3      5\n",
      "4      3\n",
      "5      5\n",
      "6      2\n",
      "7      1\n",
      "8     24\n",
      "9     43\n",
      "10    34\n",
      "11    34\n",
      "12     3\n",
      "13     4\n",
      "dtype: int64\n"
     ]
    }
   ],
   "source": [
    "#Exercise 1:\n",
    "#create a pandas series. A numpy equivalent that is compatible with pandas functions\n",
    "print(\"\"\"Expected Output:\n",
    "0      1\n",
    "1      3\n",
    "2      4\n",
    "3      5\n",
    "4      3\n",
    "5      5\n",
    "6      2\n",
    "7      1\n",
    "8     24\n",
    "9     43\n",
    "10    34\n",
    "11    34\n",
    "12     3\n",
    "13     4\n",
    "dtype: int64\"\"\")"
   ]
  },
  {
   "cell_type": "code",
   "execution_count": 3,
   "metadata": {},
   "outputs": [],
   "source": [
    "data = [1,3,4,5,3,5,2,1,24,43,34,34,3,4]\n",
    "#Solution"
   ]
  },
  {
   "cell_type": "code",
   "execution_count": 4,
   "metadata": {},
   "outputs": [
    {
     "name": "stdout",
     "output_type": "stream",
     "text": [
      "Expected Output:\n",
      "b         1\n",
      "c         a\n",
      "d    [1, 2]\n",
      "a         0\n",
      "dtype: object\n"
     ]
    }
   ],
   "source": [
    "#Exercise 2 \n",
    "#If numpy arrays are advanced python lists, then pandas series are advanced python dictionaries.\n",
    "#A dictionary has a \"name\" instead of an index assigned to values in it. Print Series using dictionary below\n",
    "print(\"\"\"Expected Output:\n",
    "b         1\n",
    "c         a\n",
    "d    [1, 2]\n",
    "a         0\n",
    "dtype: object\"\"\")"
   ]
  },
  {
   "cell_type": "code",
   "execution_count": 5,
   "metadata": {},
   "outputs": [],
   "source": [
    "data={'a':0,'b':1.,'c':\"a\", 'd':[1,2]}\n",
    "#Solution"
   ]
  },
  {
   "cell_type": "code",
   "execution_count": 22,
   "metadata": {},
   "outputs": [],
   "source": [
    "#Notice above that every row has a unique datatype, so this series is a series of objects\n",
    "#print(s['d'])"
   ]
  },
  {
   "cell_type": "code",
   "execution_count": 23,
   "metadata": {},
   "outputs": [
    {
     "name": "stdout",
     "output_type": "stream",
     "text": [
      "Expected Output:\n",
      "Name    Clarke\n",
      "Age         13\n",
      "Name: 2, dtype: object\n",
      "\n",
      "\n",
      "\n",
      "0      Alex\n",
      "1       Bob\n",
      "2    Clarke\n",
      "Name: Name, dtype: object\n",
      "\n"
     ]
    }
   ],
   "source": [
    "#Exercise 3\n",
    "#Now we are going to really expand our pandas using dataframes, these are n dimensional matrices that can\n",
    "#have non-numerical indexes and column names\n",
    "#Use this dataframe as a demo\n",
    "import pandas as pd\n",
    "data = [['Alex',10],['Bob',12],['Clarke',13]]\n",
    "df = pd.DataFrame(data,columns=['Name','Age'])\n",
    "#Use iloc to print the last row.\n",
    "#Then use loc to print the name column\n",
    "print(\"\"\"Expected Output:\n",
    "Name    Clarke\n",
    "Age         13\n",
    "Name: 2, dtype: object\n",
    "\n",
    "\n",
    "\n",
    "0      Alex\n",
    "1       Bob\n",
    "2    Clarke\n",
    "Name: Name, dtype: object\n",
    "\"\"\")"
   ]
  },
  {
   "cell_type": "code",
   "execution_count": 24,
   "metadata": {},
   "outputs": [],
   "source": [
    "#Solution"
   ]
  },
  {
   "cell_type": "code",
   "execution_count": 25,
   "metadata": {},
   "outputs": [],
   "source": [
    "#Exercise 4\n",
    "#Now we will use real data. Gathered from the CDC on Oct. 12th we will work with COVID Case data.\n",
    "covid_data = pd.read_csv(\"COVID_data.csv\",delimiter=',')\n",
    "#print the 50th row of the covid_data"
   ]
  },
  {
   "cell_type": "code",
   "execution_count": 26,
   "metadata": {},
   "outputs": [],
   "source": [
    "#Solution\n"
   ]
  },
  {
   "cell_type": "code",
   "execution_count": 27,
   "metadata": {},
   "outputs": [],
   "source": [
    "#Exercise 5:\n",
    "#Filter out data from the larger data set and isolate data from New Hampshire. Hint: The state code is NH"
   ]
  },
  {
   "cell_type": "code",
   "execution_count": 12,
   "metadata": {},
   "outputs": [],
   "source": [
    "#Solution"
   ]
  },
  {
   "cell_type": "code",
   "execution_count": 13,
   "metadata": {},
   "outputs": [],
   "source": [
    "#Exercise 6: use matplotlib to plot total Cases over date"
   ]
  },
  {
   "cell_type": "code",
   "execution_count": 14,
   "metadata": {},
   "outputs": [],
   "source": [
    "#Extension: The dates probalbly are improperly formatted, format via rotating the text and making the\n",
    "#the figure larger.(PLOT SHOULD BE FORMATTED WITH TITLES AND LABELS)\n"
   ]
  },
  {
   "cell_type": "code",
   "execution_count": 15,
   "metadata": {},
   "outputs": [],
   "source": [
    "#Exercise 7:\n",
    "#Overlay new case per day in New Hampshire with data"
   ]
  },
  {
   "cell_type": "code",
   "execution_count": 16,
   "metadata": {},
   "outputs": [],
   "source": [
    "#Solution\n"
   ]
  },
  {
   "cell_type": "code",
   "execution_count": 17,
   "metadata": {
    "scrolled": true
   },
   "outputs": [],
   "source": [
    "#Exercise 8: \n",
    "#Combine Every states confirmed case count and plot total case count vs time\n",
    "#Hint: utilize groupby\n",
    "#Format plot to be readable"
   ]
  },
  {
   "cell_type": "code",
   "execution_count": 18,
   "metadata": {},
   "outputs": [],
   "source": [
    "#Exercise 9: Overlay all 50 states total case count over time"
   ]
  },
  {
   "cell_type": "code",
   "execution_count": 19,
   "metadata": {},
   "outputs": [],
   "source": [
    "#Solution\n"
   ]
  },
  {
   "cell_type": "code",
   "execution_count": 20,
   "metadata": {},
   "outputs": [],
   "source": [
    "#Exercise 10\n",
    "#There is a lot going on in the plot. Filter out the TOP 10 states to plot."
   ]
  },
  {
   "cell_type": "code",
   "execution_count": 21,
   "metadata": {},
   "outputs": [],
   "source": [
    "#Solution\n"
   ]
  },
  {
   "cell_type": "code",
   "execution_count": null,
   "metadata": {},
   "outputs": [],
   "source": []
  }
 ],
 "metadata": {
  "kernelspec": {
   "display_name": "Python 3",
   "language": "python",
   "name": "python3"
  },
  "language_info": {
   "codemirror_mode": {
    "name": "ipython",
    "version": 3
   },
   "file_extension": ".py",
   "mimetype": "text/x-python",
   "name": "python",
   "nbconvert_exporter": "python",
   "pygments_lexer": "ipython3",
   "version": "3.7.6"
  }
 },
 "nbformat": 4,
 "nbformat_minor": 4
}
