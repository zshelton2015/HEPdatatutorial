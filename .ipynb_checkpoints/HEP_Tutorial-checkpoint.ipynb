{
 "cells": [
  {
   "cell_type": "markdown",
   "metadata": {},
   "source": [
    "# Python Data Analysis for Particle Physics\n",
    "Python provides engineers, computer scientist, and physicist tools for data analysis. Packages like Numpy, Pandas and Scipy allows for intelligent and thoughtful data analysis through simple and clear functions. Python is a simple language to learn however, its wide range of tools and packages means that it is difficult to master entirely. Before beginning this tutorial ensure, you understand python basics. (Insert link to basics here)\n",
    "\n",
    "In this tutorial we will cover packages in detail:\n",
    "- Scipy\n",
    "- Git\n",
    "- Pandas\n",
    "- Numpy\n",
    "- Coffea\n",
    "- Matplotlib\n",
    "Others may be mentioned, but these will be covered in depth."
   ]
  },
  {
   "cell_type": "markdown",
   "metadata": {},
   "source": [
    "## Pandas\n",
    "Pandas' mission statement is:\n",
    "___\n",
    "pandas aims to be the fundamental high-level building block for doing practical, real world data analysis in Python. Additionally, it has the broader goal of becoming the most powerful and flexible open source data analysis / manipulation tool available in any language.\n",
    "___\n",
    "   Pandas builds on the concept of python lists and dictionaries, they provide greater control of data and a greater variety of datatypes to manage."
   ]
  },
  {
   "cell_type": "markdown",
   "metadata": {},
   "source": [
    "Pandas is a great introduction multi-dimensional data sets. Below, we will create a dataset of a particle moving 2 dimensionally."
   ]
  },
  {
   "cell_type": "code",
   "execution_count": 1,
   "metadata": {},
   "outputs": [
    {
     "data": {
      "text/plain": [
       "'1.0.1'"
      ]
     },
     "execution_count": 1,
     "metadata": {},
     "output_type": "execute_result"
    }
   ],
   "source": [
    "#Test if you have installed pandas\n",
    "#Pandas can be installed via pip(pip install pandas)\n",
    "import pandas as pd\n",
    "pd.__version__"
   ]
  },
  {
   "cell_type": "code",
   "execution_count": 2,
   "metadata": {},
   "outputs": [],
   "source": [
    "df = pd.read_csv('2Dmotion.csv')\n",
    "#The dataset is stored in a dataframe with unique labelled columns and indexes"
   ]
  },
  {
   "cell_type": "markdown",
   "metadata": {},
   "source": [
    "The dataset comes from a csv, pandas allows for selecting data via rows or columns\n"
   ]
  },
  {
   "cell_type": "code",
   "execution_count": 3,
   "metadata": {
    "scrolled": true
   },
   "outputs": [
    {
     "name": "stdout",
     "output_type": "stream",
     "text": [
      "0     0.000000\n",
      "1     2.000000\n",
      "2     4.000000\n",
      "3     6.000000\n",
      "4     8.000000\n",
      "5    10.000000\n",
      "6    12.000000\n",
      "7    14.000000\n",
      "8    16.000000\n",
      "9    16.326526\n",
      "Name: x, dtype: float64\n"
     ]
    }
   ],
   "source": [
    "#These can be used with different list commands and each column can be treated like a list.\n",
    "#Via the form df['name'], a column can be isolated\n",
    "print(df['x'])"
   ]
  },
  {
   "cell_type": "code",
   "execution_count": 4,
   "metadata": {},
   "outputs": [
    {
     "name": "stdout",
     "output_type": "stream",
     "text": [
      "10\n"
     ]
    }
   ],
   "source": [
    "print(len(df['x']))"
   ]
  },
  {
   "cell_type": "code",
   "execution_count": 5,
   "metadata": {},
   "outputs": [
    {
     "name": "stdout",
     "output_type": "stream",
     "text": [
      "16.326526\n"
     ]
    }
   ],
   "source": [
    "#Select 1 row and print it\n",
    "print(df.iloc[9]['x'])"
   ]
  },
  {
   "cell_type": "code",
   "execution_count": 6,
   "metadata": {},
   "outputs": [
    {
     "name": "stdout",
     "output_type": "stream",
     "text": [
      "          t          x          y  v_x   v_y\n",
      "6  6.000000  12.000000  63.600000    2 -18.8\n",
      "7  7.000000  14.000000  39.900000    2 -28.6\n",
      "8  8.000000  16.000000   6.400000    2 -38.4\n",
      "9  8.163263  16.326526   0.000092    2 -40.0\n"
     ]
    }
   ],
   "source": [
    "#filters can be applied to a dataframe without iterating(or explicitly with a for-loop)\n",
    "df = df[df['x']>10]\n",
    "#All that is left are rows that are greater than 10, the last 4 rows. \n",
    "print(df)"
   ]
  },
  {
   "cell_type": "markdown",
   "metadata": {},
   "source": [
    "The other way to organize data is via numpy arrays. Via numpy and scipy, data analysis and statistics functions are availible for use."
   ]
  },
  {
   "cell_type": "code",
   "execution_count": 7,
   "metadata": {},
   "outputs": [],
   "source": [
    "import numpy as np"
   ]
  },
  {
   "cell_type": "code",
   "execution_count": 8,
   "metadata": {},
   "outputs": [
    {
     "name": "stdout",
     "output_type": "stream",
     "text": [
      "10\n",
      "1\n",
      "[ 1  2  3  4  5  5  6  7  8 10]\n"
     ]
    }
   ],
   "source": [
    "#Create an array with 10 values, a list is converted to an array\n",
    "t_array = np.array([1,3,4,5,2,5,6,7,8,10])\n",
    "#Numpy gives us access to functions like max, min and sort\n",
    "print(np.max(t_array))\n",
    "print(np.min(t_array))\n",
    "print(np.sort(t_array))"
   ]
  },
  {
   "cell_type": "code",
   "execution_count": 9,
   "metadata": {},
   "outputs": [
    {
     "name": "stdout",
     "output_type": "stream",
     "text": [
      "[[2 5]\n",
      " [6 4]\n",
      " [1 8]]\n",
      "Max values of each column\n",
      "[6 8]\n",
      "Max values of each row\n",
      "[5 6 8]\n",
      "Min values of each column\n",
      "[1 4]\n",
      "Min values of each row\n",
      "[2 4 1]\n"
     ]
    }
   ],
   "source": [
    "#Numpy also allows 2D matrice\n",
    "t_array = np.array([[2 ,5],[6 ,4],[1 ,8]])\n",
    "print(t_array)\n",
    "print(\"Max values of each column\")\n",
    "print(np.max(t_array,axis=0))\n",
    "print(\"Max values of each row\")\n",
    "print(np.max(t_array,axis=1))\n",
    "print(\"Min values of each column\")\n",
    "print(np.min(t_array,axis=0))\n",
    "print(\"Min values of each row\")\n",
    "print(np.min(t_array,axis=1))"
   ]
  },
  {
   "cell_type": "markdown",
   "metadata": {},
   "source": [
    "## Matplotlib and Seaborn\n",
    "Now that we have robust datasets and the ability to modify them quickly and easily."
   ]
  },
  {
   "cell_type": "code",
   "execution_count": 10,
   "metadata": {},
   "outputs": [],
   "source": [
    "import matplotlib.pyplot as plt\n",
    "import seaborn as sns"
   ]
  },
  {
   "cell_type": "code",
   "execution_count": 11,
   "metadata": {},
   "outputs": [
    {
     "data": {
      "text/plain": [
       "[<matplotlib.lines.Line2D at 0x1d52e6e3a48>]"
      ]
     },
     "execution_count": 11,
     "metadata": {},
     "output_type": "execute_result"
    },
    {
     "data": {
      "image/png": "[encoded data removed]",
      "text/plain": [
       "<Figure size 432x288 with 1 Axes>"
      ]
     },
     "metadata": {
      "needs_background": "light"
     },
     "output_type": "display_data"
    }
   ],
   "source": [
    "#Create a line plot using the following array\n",
    "t_array =np.array([1,3,4,5,2,5,6,7,8,10])\n",
    "plt.plot(t_array)"
   ]
  },
  {
   "cell_type": "code",
   "execution_count": 12,
   "metadata": {},
   "outputs": [
    {
     "data": {
      "text/plain": [
       "[<matplotlib.lines.Line2D at 0x1d530778ac8>]"
      ]
     },
     "execution_count": 12,
     "metadata": {},
     "output_type": "execute_result"
    },
    {
     "data": {
      "image/png": "[encoded data removed]",
      "text/plain": [
       "<Figure size 432x288 with 1 Axes>"
      ]
     },
     "metadata": {
      "needs_background": "light"
     },
     "output_type": "display_data"
    }
   ],
   "source": [
    "plt.title(\"Title\")\n",
    "#Add Xlabel\n",
    "plt.xlabel(\"Time\")\n",
    "#Add Ylabel\n",
    "plt.ylabel(\"Value\")\n",
    "plt.plot(t_array)"
   ]
  },
  {
   "cell_type": "code",
   "execution_count": 13,
   "metadata": {},
   "outputs": [
    {
     "data": {
      "text/plain": [
       "<matplotlib.axes._subplots.AxesSubplot at 0x1d5317d3608>"
      ]
     },
     "execution_count": 13,
     "metadata": {},
     "output_type": "execute_result"
    },
    {
     "data": {
      "image/png": "[encoded data removed]",
      "text/plain": [
       "<Figure size 432x288 with 1 Axes>"
      ]
     },
     "metadata": {},
     "output_type": "display_data"
    }
   ],
   "source": [
    "#Seaborn is a package built on matplotlib, it provides greater control and nicer looking plots,\n",
    "#in order to make a line plot. It takes x and y to make it.\n",
    "#sns.set() sets the color scheme and background for readability\n",
    "sns.set('paper')\n",
    "sns.lineplot([1,2,3,4,5,6,7,8,9,10],t_array)"
   ]
  },
  {
   "cell_type": "code",
   "execution_count": 14,
   "metadata": {},
   "outputs": [
    {
     "data": {
      "text/plain": [
       "<matplotlib.collections.PathCollection at 0x1d5318c6208>"
      ]
     },
     "execution_count": 14,
     "metadata": {},
     "output_type": "execute_result"
    },
    {
     "data": {
      "image/png": "[encoded data removed]",
      "text/plain": [
       "<Figure size 432x288 with 1 Axes>"
      ]
     },
     "metadata": {},
     "output_type": "display_data"
    }
   ],
   "source": [
    "#When dealing with 2D array, one must use the slice arrays in index\n",
    "#[:,0] refers to the 1st value of each []\n",
    "t_array = np.array([[2 ,5],[6 ,4],[1 ,8]])\n",
    "plt.scatter(t_array[:,0],t_array[:,1])"
   ]
  },
  {
   "cell_type": "code",
   "execution_count": 15,
   "metadata": {},
   "outputs": [
    {
     "data": {
      "text/plain": [
       "<matplotlib.collections.PathCollection at 0x1d531937788>"
      ]
     },
     "execution_count": 15,
     "metadata": {},
     "output_type": "execute_result"
    },
    {
     "data": {
      "image/png": "[encoded data removed]",
      "text/plain": [
       "<Figure size 432x288 with 1 Axes>"
      ]
     },
     "metadata": {},
     "output_type": "display_data"
    }
   ],
   "source": [
    "#Returning to our 2Dmotion.csv dataset\n",
    "#The Scatter function can be used to plot the path of an object\n",
    "import pandas as pd\n",
    "import matplotlib.pyplot as plt\n",
    "df = pd.read_csv(\"2Dmotion.csv\")\n",
    "plt.scatter(df['x'],df['y'])"
   ]
  },
  {
   "cell_type": "markdown",
   "metadata": {},
   "source": [
    "## Coffea, SciPy and HEP Data\n",
    "Now that we have a grasp on the basics to large datasets, we will begin using a data type that combines both data arrays and dataframes. These are called JaggedArrays; the extension of this awkward arrays, however these function similarly for our needs. They can hold different types of data and can function along with being called and filtered like a dataframe or an array."
   ]
  },
  {
   "cell_type": "code",
   "execution_count": 16,
   "metadata": {},
   "outputs": [
    {
     "name": "stderr",
     "output_type": "stream",
     "text": [
      "  % Total    % Received % Xferd  Average Speed   Time    Time     Time  Current\n",
      "                                 Dload  Upload   Total   Spent    Left  Speed\n",
      "\n",
      "  0     0    0     0    0     0      0      0 --:--:-- --:--:-- --:--:--     0\n",
      "100  212k  100  212k    0     0   212k      0  0:00:01 --:--:--  0:00:01  618k\n"
     ]
    }
   ],
   "source": [
    "#We will be utilizing the follow dataset from Coffea's documentation.\n",
    "!curl -O http://scikit-hep.org/uproot/examples/HZZ.root"
   ]
  },
  {
   "cell_type": "code",
   "execution_count": 17,
   "metadata": {},
   "outputs": [],
   "source": [
    "import coffea\n",
    "import scipy\n",
    "import numpy as np\n",
    "import uproot\n",
    "import uproot_methods\n",
    "import awkward"
   ]
  },
  {
   "cell_type": "code",
   "execution_count": 18,
   "metadata": {},
   "outputs": [
    {
     "name": "stdout",
     "output_type": "stream",
     "text": [
      "<TTree b'events' at 0x01d532b7a248>\n"
     ]
    }
   ],
   "source": [
    "#Uproot is a package that takes the .root files output from CMS back-end data collection and takes it directly into a python data object\n",
    "file = uproot.open(\"HZZ.root\")\n",
    "tree = file[\"events\"]\n",
    "print(tree)\n"
   ]
  },
  {
   "cell_type": "code",
   "execution_count": 19,
   "metadata": {
    "scrolled": true
   },
   "outputs": [
    {
     "name": "stdout",
     "output_type": "stream",
     "text": [
      "NJet                       (no streamer)              asdtype('>i4')\n",
      "Jet_Px                     (no streamer)              asjagged(asdtype('>f4'))\n",
      "Jet_Py                     (no streamer)              asjagged(asdtype('>f4'))\n",
      "Jet_Pz                     (no streamer)              asjagged(asdtype('>f4'))\n",
      "Jet_E                      (no streamer)              asjagged(asdtype('>f4'))\n",
      "Jet_btag                   (no streamer)              asjagged(asdtype('>f4'))\n",
      "Jet_ID                     (no streamer)              asjagged(asdtype('bool'))\n",
      "NMuon                      (no streamer)              asdtype('>i4')\n",
      "Muon_Px                    (no streamer)              asjagged(asdtype('>f4'))\n",
      "Muon_Py                    (no streamer)              asjagged(asdtype('>f4'))\n",
      "Muon_Pz                    (no streamer)              asjagged(asdtype('>f4'))\n",
      "Muon_E                     (no streamer)              asjagged(asdtype('>f4'))\n",
      "Muon_Charge                (no streamer)              asjagged(asdtype('>i4'))\n",
      "Muon_Iso                   (no streamer)              asjagged(asdtype('>f4'))\n",
      "NElectron                  (no streamer)              asdtype('>i4')\n",
      "Electron_Px                (no streamer)              asjagged(asdtype('>f4'))\n",
      "Electron_Py                (no streamer)              asjagged(asdtype('>f4'))\n",
      "Electron_Pz                (no streamer)              asjagged(asdtype('>f4'))\n",
      "Electron_E                 (no streamer)              asjagged(asdtype('>f4'))\n",
      "Electron_Charge            (no streamer)              asjagged(asdtype('>i4'))\n",
      "Electron_Iso               (no streamer)              asjagged(asdtype('>f4'))\n",
      "NPhoton                    (no streamer)              asdtype('>i4')\n",
      "Photon_Px                  (no streamer)              asjagged(asdtype('>f4'))\n",
      "Photon_Py                  (no streamer)              asjagged(asdtype('>f4'))\n",
      "Photon_Pz                  (no streamer)              asjagged(asdtype('>f4'))\n",
      "Photon_E                   (no streamer)              asjagged(asdtype('>f4'))\n",
      "Photon_Iso                 (no streamer)              asjagged(asdtype('>f4'))\n",
      "MET_px                     (no streamer)              asdtype('>f4')\n",
      "MET_py                     (no streamer)              asdtype('>f4')\n",
      "MChadronicBottom_px        (no streamer)              asdtype('>f4')\n",
      "MChadronicBottom_py        (no streamer)              asdtype('>f4')\n",
      "MChadronicBottom_pz        (no streamer)              asdtype('>f4')\n",
      "MCleptonicBottom_px        (no streamer)              asdtype('>f4')\n",
      "MCleptonicBottom_py        (no streamer)              asdtype('>f4')\n",
      "MCleptonicBottom_pz        (no streamer)              asdtype('>f4')\n",
      "MChadronicWDecayQuark_px   (no streamer)              asdtype('>f4')\n",
      "MChadronicWDecayQuark_py   (no streamer)              asdtype('>f4')\n",
      "MChadronicWDecayQuark_pz   (no streamer)              asdtype('>f4')\n",
      "MChadronicWDecayQuarkBar_px\n",
      "                           (no streamer)              asdtype('>f4')\n",
      "MChadronicWDecayQuarkBar_py\n",
      "                           (no streamer)              asdtype('>f4')\n",
      "MChadronicWDecayQuarkBar_pz\n",
      "                           (no streamer)              asdtype('>f4')\n",
      "MClepton_px                (no streamer)              asdtype('>f4')\n",
      "MClepton_py                (no streamer)              asdtype('>f4')\n",
      "MClepton_pz                (no streamer)              asdtype('>f4')\n",
      "MCleptonPDGid              (no streamer)              asdtype('>i4')\n",
      "MCneutrino_px              (no streamer)              asdtype('>f4')\n",
      "MCneutrino_py              (no streamer)              asdtype('>f4')\n",
      "MCneutrino_pz              (no streamer)              asdtype('>f4')\n",
      "NPrimaryVertices           (no streamer)              asdtype('>i4')\n",
      "triggerIsoMu24             (no streamer)              asdtype('bool')\n",
      "EventWeight                (no streamer)              asdtype('>f4')\n",
      "None\n"
     ]
    }
   ],
   "source": [
    "#This dataset is still organized like a root file\n",
    "#Tree-->Branch--->Data\n",
    "print(tree.show())"
   ]
  },
  {
   "cell_type": "code",
   "execution_count": 20,
   "metadata": {},
   "outputs": [],
   "source": [
    "#Reading all of the output, one can read a series of arrays and jagged arrays, each branch corresponds to an array. \n",
    "#By taking the same index from each array, these slices can build events.\n",
    "#If we were interested in only Electron x-dir momention. We can filter only those groups out.\n",
    "#In HEP data collection, plotting histogram distributions will help us give the data a visual check in order to make cuts\n",
    "#or decide if the data is normal.\n",
    "#Flatten = (Condensing array/list of lists/arrays into one array/list)\n",
    "panda_data=tree.pandas.df([\"Electron_P*\"], flatten=True)\n",
    "#Now our data is in a dataframe, we can now do data analysis!"
   ]
  },
  {
   "cell_type": "code",
   "execution_count": 21,
   "metadata": {},
   "outputs": [
    {
     "data": {
      "text/plain": [
       "Text(0, 0.5, 'Counts')"
      ]
     },
     "execution_count": 21,
     "metadata": {},
     "output_type": "execute_result"
    },
    {
     "data": {
      "image/png": "[encoded data removed]",
      "text/plain": [
       "<Figure size 432x288 with 1 Axes>"
      ]
     },
     "metadata": {},
     "output_type": "display_data"
    }
   ],
   "source": [
    "#Coffea has built in Hist functions for us to use:\n",
    "import coffea.hist as hist\n",
    "n=0\n",
    "start = -100\n",
    "binning=[]\n",
    "while(n<20):\n",
    "    binning.append(start+n*10)\n",
    "    n=n+1\n",
    "fig=plt.hist(panda_data['Electron_Px'],bins=binning)\n",
    "plt.title(\"Electron $P_x$ Distribution\")\n",
    "plt.xlabel(\"P_x (MeV)\")\n",
    "plt.ylabel(\"Counts\")"
   ]
  },
  {
   "cell_type": "code",
   "execution_count": 22,
   "metadata": {},
   "outputs": [
    {
     "data": {
      "text/plain": [
       "Text(0, 0.5, 'Counts')"
      ]
     },
     "execution_count": 22,
     "metadata": {},
     "output_type": "execute_result"
    },
    {
     "data": {
      "image/png": "[encoded data removed]",
      "text/plain": [
       "<Figure size 432x288 with 1 Axes>"
      ]
     },
     "metadata": {},
     "output_type": "display_data"
    }
   ],
   "source": [
    "#Utilizing some of our plotting tools we can modify the style.\n",
    "import seaborn as sns\n",
    "sns.set_style(\"darkgrid\")\n",
    "fig=plt.hist(panda_data['Electron_Px'],bins=binning)\n",
    "plt.title(\"Electron $P_x$ Distribution\")\n",
    "plt.xlabel(\"P_x (MeV)\")\n",
    "plt.ylabel(\"Counts\")"
   ]
  },
  {
   "cell_type": "code",
   "execution_count": 37,
   "metadata": {},
   "outputs": [
    {
     "name": "stdout",
     "output_type": "stream",
     "text": [
      "The average value is -4.7304454\n",
      "The standard deviation value is 37.84155211623559\n"
     ]
    },
    {
     "data": {
      "image/png": "[encoded data removed]",
      "text/plain": [
       "<Figure size 432x288 with 1 Axes>"
      ]
     },
     "metadata": {
      "needs_background": "light"
     },
     "output_type": "display_data"
    }
   ],
   "source": [
    "#The Binning function below can be used on guassian distribution to create bins\n",
    "avg = np.average(panda_data['Electron_Px'])\n",
    "print(\"The average value is \" + str(avg))\n",
    "std = sts.tstd(panda_data['Electron_Px'])\n",
    "print(\"The standard deviation value is \"+str(std))\n",
    "#Now that we have the data, we can create bins.\n",
    "#By modifying the bin ratio, more bins will be made\n",
    "#Bin_ratio reflects how many bins one sigma will contain.\n",
    "def binningfunction(avg,std):\n",
    "    bins = []\n",
    "    bpos = []\n",
    "    bneg = []\n",
    "    bin_ratio = 2\n",
    "    val = 0 \n",
    "    while abs(val) < std*6:\n",
    "        bneg.append(val-std/bin_ratio)\n",
    "        bpos.append(abs(val)+std/bin_ratio)\n",
    "        val=val-std/bin_ratio\n",
    "    bins = bneg+bpos\n",
    "    binlist=sorted(bins)\n",
    "    return binlist\n",
    "binning = binningfunction(avg,std)\n",
    "fig=plt.hist(panda_data['Electron_Px'],bins=binning)"
   ]
  },
  {
   "cell_type": "markdown",
   "metadata": {},
   "source": [
    "## Statistical Tools in Python\n",
    "To conduct statistical tests, packages like Scipy.Stats can be used. We will test if a guassian distribution is present in the above data (P_x) and then take it's average, and standard deviation. We can use this data to create a binned fit, this will not require a human input on the data and can instead be automatically made."
   ]
  },
  {
   "cell_type": "code",
   "execution_count": 81,
   "metadata": {},
   "outputs": [],
   "source": [
    "import seaborn as sns\n",
    "sns.reset_orig()\n",
    "import scipy.stats as sts\n",
    "import matplotlib.pyplot as plt"
   ]
  },
  {
   "cell_type": "code",
   "execution_count": 90,
   "metadata": {},
   "outputs": [
    {
     "data": {
      "text/plain": [
       "Text(0.5, 0, 'Electron $P_{x}$')"
      ]
     },
     "execution_count": 90,
     "metadata": {},
     "output_type": "execute_result"
    },
    {
     "data": {
      "image/png": "[encoded data removed]",
      "text/plain": [
       "<Figure size 432x288 with 1 Axes>"
      ]
     },
     "metadata": {
      "needs_background": "light"
     },
     "output_type": "display_data"
    }
   ],
   "source": [
    "#We can create fits/tests for the data for many purposes:\n",
    "#1. We can exrapolate trends in multiple datasets without needing the whole datasets\n",
    "#2. Compare datasets of different sizes\n",
    "#2a determine if a smaller dataset is apart of a larger set\n",
    "#2b determine if a smaller dataset observes a similar phenomenom\n",
    "#3. For HEP, we can make determination on what data is background(should be present in all datasets similarly)\n",
    "# and \"cut\" that data out.\n",
    "\n",
    "\n",
    "#We will be creating an unbinned maximum fit, this can be used for smaller datasets or any case where a binned fit isn't pertinent\n",
    "#or necessary. Notice above if we modify the bin_ratio, the histogram looks fairly different, so creating an unbinned\n",
    "#maximum fit will show the highest liklihood values without losing data clarity.\n",
    "\n",
    "\n",
    "#Scipy stats already has functions for us to use, we will be creating a Probability Distribution Function\n",
    "#We will treat the data as a Guassian Distribution. In other datasets, it is important to use statistical tests for\n",
    "#a fit. \n",
    "#Utilizing the built-in function guassian_kde, we can create a probability distribution function. KDE stands for kernal density estimation,\n",
    "#many python packages and methods use KDEs to make PDFs. \n",
    "df=panda_data['Electron_Px']\n",
    "kde= sts.gaussian_kde(df)\n",
    "ind = np.linspace(df.min(),df.max(),1000)\n",
    "#The Gaussian_KDE function requires the evaluate function,\n",
    "line = kde.evaluate(ind)\n",
    "plt.plot(ind,line)\n",
    "plt.title(\"Probability Distribution Function Fit\")\n",
    "plt.ylabel(\"Probability\")\n",
    "plt.xlabel(\"Electron $P_{x}$\")\n",
    "#This plot shows the probability over the electron P_x, this is a shaped fit. It is not necessarily the best fit but allows\n",
    "#for a quick comparison of data to determine if further testing would be worthwhile."
   ]
  },
  {
   "cell_type": "code",
   "execution_count": null,
   "metadata": {},
   "outputs": [],
   "source": []
  },
  {
   "cell_type": "code",
   "execution_count": null,
   "metadata": {},
   "outputs": [],
   "source": []
  },
  {
   "cell_type": "code",
   "execution_count": null,
   "metadata": {},
   "outputs": [],
   "source": []
  },
  {
   "cell_type": "code",
   "execution_count": null,
   "metadata": {},
   "outputs": [],
   "source": []
  },
  {
   "cell_type": "code",
   "execution_count": null,
   "metadata": {},
   "outputs": [],
   "source": []
  },
  {
   "cell_type": "markdown",
   "metadata": {},
   "source": [
    "Sources and further reading:\n",
    "\n",
    "Statistics Fitting\n",
    "https://indico.cern.ch/category/6015/attachments/192/631/Statistics_Fitting_II.pdf\n",
    "\n",
    "Coffea Documentation:\n",
    "https://coffeateam.github.io/\n",
    "\n"
   ]
  }
 ],
 "metadata": {
  "kernelspec": {
   "display_name": "Python 3",
   "language": "python",
   "name": "python3"
  },
  "language_info": {
   "codemirror_mode": {
    "name": "ipython",
    "version": 3
   },
   "file_extension": ".py",
   "mimetype": "text/x-python",
   "name": "python",
   "nbconvert_exporter": "python",
   "pygments_lexer": "ipython3",
   "version": "3.7.4"
  },
  "pycharm": {
   "stem_cell": {
    "cell_type": "raw",
    "metadata": {
     "collapsed": false
    },
    "source": []
   }
  }
 },
 "nbformat": 4,
 "nbformat_minor": 4
}
